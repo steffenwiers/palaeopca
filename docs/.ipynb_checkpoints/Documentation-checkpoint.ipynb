{
 "cells": [
  {
   "cell_type": "markdown",
   "metadata": {},
   "source": [
    "# P1Backend.P1Backend"
   ]
  },
  {
   "cell_type": "markdown",
   "metadata": {},
   "source": [
    "## load_file()"
   ]
  },
  {
   "cell_type": "markdown",
   "metadata": {},
   "source": [
    "load_file(infile: str, sep: str, skip_header: int = 0, volume: float = 10.0, units_in: str = \"emu\", units_out: str = \"Am2\")"
   ]
  },
  {
   "cell_type": "raw",
   "metadata": {},
   "source": [
    "Loads a datafile of known format.\n",
    "\n",
    "Keywords:\n",
    "    infile: full path to file (str)\n",
    "    sep: file delimiter (str)\n",
    "    skip_header: header lines to skip (int)\n",
    "    volume: sample volume in g/cc (float, default: 10.0)\n",
    "    units_in: units of input data (str, default: emu)\n",
    "    units_out: convert units to units_out (str, default: Am2)\n",
    "\n",
    "Format:\n",
    "    Columns: SampleID/Depth, AF (mT)/Temp. (K or °C), x (emu or Am2), y (emu or Am2), z (emu or Am2)\n",
    "    Rows: Observations\n",
    "\n",
    "    File may contain several samples, order first by sample, second by AF in ascending order.\n",
    "    All samples need to have the same number of AF steps\n"
   ]
  },
  {
   "cell_type": "markdown",
   "metadata": {},
   "source": [
    "## get_data()"
   ]
  },
  {
   "cell_type": "markdown",
   "metadata": {},
   "source": [
    "get_data()"
   ]
  },
  {
   "cell_type": "raw",
   "metadata": {},
   "source": [
    "get_data()\n",
    "\n",
    "Returns the underlying data object\n"
   ]
  },
  {
   "cell_type": "markdown",
   "metadata": {},
   "source": [
    "## run_single_interval()"
   ]
  },
  {
   "cell_type": "markdown",
   "metadata": {},
   "source": [
    "run_single_interval(self, min_step: float = 0.0, max_step: float = 100.0, NRM_unit: str = \"A/m\")"
   ]
  },
  {
   "cell_type": "raw",
   "metadata": {},
   "source": [
    "Run a principal component analysis (PCA) on the data in the given interval.\n",
    "\n",
    "Keywords:\n",
    "    min_step: first step to be used, in step units (e.g., mT)\n",
    "    max_step: last step to be used, in step units (e.g., mT)\n",
    "    NRM_unit: units for NRM (str, default = A/m)\n",
    "        \n",
    "Returns:\n",
    "    numpy array (SampleID/Depth, NRM, Inclination, Declination, MADp, MADo, Min step, Max step)"
   ]
  },
  {
   "cell_type": "markdown",
   "metadata": {},
   "source": [
    "## run_best_fit()"
   ]
  },
  {
   "cell_type": "markdown",
   "metadata": {},
   "source": [
    "run_best_fit(self, min_steps: int = 3, NRM_unit: str = \"A/m\")"
   ]
  },
  {
   "cell_type": "raw",
   "metadata": {},
   "source": [
    "Run a principal component analysis (PCA) on the data minimizing the MADp.\n",
    "\n",
    "Keywords:\n",
    "    min_steps: minimum number of steps to be used (int, default: 3)\n",
    "    NRM_unit: units for NRM (str, default = A/m)\n",
    "        \n",
    "Returns:\n",
    "    numpy array (SampleID/Depth, NRM, Inclination, Declination, MADp, MADo, Min step, Max step)"
   ]
  },
  {
   "cell_type": "markdown",
   "metadata": {},
   "source": [
    "## run_mesh()"
   ]
  },
  {
   "cell_type": "markdown",
   "metadata": {},
   "source": [
    "run_mesh(self, window = 3, NRM_unit: str = \"A/m\")"
   ]
  },
  {
   "cell_type": "raw",
   "metadata": {},
   "source": [
    "Run a moving window principal component analysis (PCA) on the dat.\n",
    "\n",
    "Keywords:\n",
    "    window: length of the moving window (int, default: 3)\n",
    "    NRM_unit: units for NRM (str, default = A/m)\n",
    "        \n",
    "Returns:\n",
    "    Dictionary with the numpy arrays of the following parameters:\n",
    "    Samples: vector of SampleID/Depth.\n",
    "    Centers: vector of window centers.\n",
    "    Steps: vector of all steps.\n",
    "    M: Magnetization matrix with observations in rows, windows in columns.\n",
    "    Inclination: Inclination matrix with observations in rows, windows in columns.\n",
    "    Declination: Declination matrix with observations in rows, windows in columns.\n",
    "    MADp: medium angular deviation, prolate matrix with observations in rows, windows in columns.\n",
    "    MADo: medium angular deviation, oblate matrix with observations in rows, windows in columns."
   ]
  },
  {
   "cell_type": "markdown",
   "metadata": {},
   "source": [
    "# P1Mpl.P1Zijder"
   ]
  },
  {
   "cell_type": "markdown",
   "metadata": {},
   "source": [
    "## zijder_save()"
   ]
  },
  {
   "cell_type": "markdown",
   "metadata": {},
   "source": [
    "zijder_save(outdir: str, indata: P1DataObject, xh: str = \"N\", xv: str = \"N\", y: str = \"W\", z: str = \"Up\", **kwargs)"
   ]
  },
  {
   "cell_type": "raw",
   "metadata": {},
   "source": [
    "Warpper function to loop through data, generates and saves zijderveld plots\n",
    "\n",
    "Keywords:\n",
    "    outdir: full path to output directory, will be created if non existant\n",
    "    indata: P1DataObject with all sample data\n",
    "    xh: component to be plotted on x-axis, horizontal projection (N, S, E or W, default: N)\n",
    "    xv: component to be plotted on x-axis, vertical projection (N, S, E or W, default: N)\n",
    "    y: component to be plotted on y-axis, horizontal projection (N, S, E or W, default: W)\n",
    "    z: component to be plotted on y-axis, vertical projection (Up or Down, default: Up)\n",
    "    **kwargs:\n",
    "        figsize: size of figure in inches (tuple, default: (5, 5))\n",
    "        format: figure format (str, default: png)\n",
    "        pca_results: array of pca results [SampleID/Depth, NRM, Inclination, Declination, MADp, MADo, Min step, Max step]                        (numpy array, default: None)\n",
    "        pca_steps: list of all demagnetization steps (default: [])\n",
    "        pca_anno: annotate plot with pca results, Inc, Dec, MADp and MADo (bool, default: False)\n",
    "        pca_points: mark points used in pca (bool, default: False)\n",
    "        pca_lines: plot largest Eigenvector of pca (bool, default: False)"
   ]
  },
  {
   "cell_type": "markdown",
   "metadata": {},
   "source": [
    "## zijder_plot()"
   ]
  },
  {
   "cell_type": "markdown",
   "metadata": {},
   "source": [
    "zijder_plot(sample: str, indata: np.ndarray, xh: str = \"N\", xv: str = \"N\", y: str = \"W\", z: str = \"Up\", **kwargs)"
   ]
  },
  {
   "cell_type": "raw",
   "metadata": {},
   "source": [
    "Generates and a zijderveld plot of provided data.\n",
    "\n",
    "Keywords:\n",
    "    indata: numpy array of (x, y, z) data vectors\n",
    "    xh: component to be plotted on x-axis, horizontal projection (N, S, E or W, default: N)\n",
    "    xv: component to be plotted on x-axis, vertical projection (N, S, E or W, default: N)\n",
    "    y: component to be plotted on y-axis, horizontal projection (N, S, E or W, default: W)\n",
    "    z: component to be plotted on y-axis, vertical projection (Up or Down, default: Up)\n",
    "    **kwargs:\n",
    "        figsize: size of figure in inches (tuple, default: (5, 5))\n",
    "        format: figure format (str, default: png)\n",
    "        units: units of x, y, z values (str, default: \"\")\n",
    "        pca_results: array of pca results [SampleID/Depth, NRM, Inclination, Declination, MADp, MADo, Min step, Max step]                        (numpy array, default: None)\n",
    "        pca_steps: list of all demagnetization steps (default: [])\n",
    "        pca_anno: annotate plot with pca results, Inc, Dec, MADp, MADo (bool, default: False)\n",
    "        pca_points: mark points used in pca (bool, default: False)\n",
    "        pca_lines: plot largest Eigenvector of pca (bool, default: False)\n",
    "\n",
    "Returns:\n",
    "    matplotlib figure instance."
   ]
  },
  {
   "cell_type": "markdown",
   "metadata": {},
   "source": [
    "# P1Mpl.P1Sequence"
   ]
  },
  {
   "cell_type": "markdown",
   "metadata": {},
   "source": [
    "## sequence_plot()"
   ]
  },
  {
   "cell_type": "markdown",
   "metadata": {},
   "source": [
    "sequence_plot(outfile: str, indata: np.ndarray, save = False, **kwargs)"
   ]
  },
  {
   "cell_type": "raw",
   "metadata": {},
   "source": [
    "Generates a sequence (downcore) plot.\n",
    "\n",
    "Keywords:\n",
    "    outfile: full path to file, format will be determined from file extension (str)\n",
    "    indata: array of pca results [SampleID/Depth, NRM, Inclination, Declination, MADp, MADo, Min step, Max step] (numpy                 array)\n",
    "    save: save the plot (bool, default: False)\n",
    "    **kwargs:\n",
    "        figsize: size of figure in inches (tuple, default: (5, 6))\n",
    "        NRM: plot NRM (bool, default: True)\n",
    "        NRM_unit: units of NRM (str, default: \"\")\n",
    "        Incl: plot Inclination (bool, default: True)\n",
    "        Decl: plot Declination (bool, default: True)\n",
    "        MADp: plot MADp (bool, default: True)\n",
    "        MADo: plot MADo (bool, default: True)\n",
    "        invertY: invert order of samples (bool, default: True)\n",
    "        ylabel: label for y-axis (str, default: \"\")\n",
    "\n",
    "Returns:\n",
    "    matplotlib figure instance."
   ]
  },
  {
   "cell_type": "markdown",
   "metadata": {},
   "source": [
    "# P1Mpl.P1Mesh"
   ]
  },
  {
   "cell_type": "markdown",
   "metadata": {},
   "source": [
    "## mesh_plot()"
   ]
  },
  {
   "cell_type": "markdown",
   "metadata": {},
   "source": [
    "mesh_plot(outfile: str, indata: Dict, save = False, **kwargs)"
   ]
  },
  {
   "cell_type": "raw",
   "metadata": {},
   "source": [
    "Generates a sequence (downcore) mesh plot.\n",
    "\n",
    "Keywords:\n",
    "    outfile: full path to file, format will be determined from file extension (str)\n",
    "    indata: \n",
    "        Dictionary with the numpy arrays of the following parameters:\n",
    "            Samples: vector of SampleID/Depth.\n",
    "            Centers: vector of window centers.\n",
    "            Steps: vector of all steps.\n",
    "            M: Magnetization matrix with observations in rows, windows in columns.\n",
    "            Inclination: Inclination matrix with observations in rows, windows in columns.\n",
    "            Declination: Declination matrix with observations in rows, windows in columns.\n",
    "            MADp: medium angular deviation, prolate matrix with observations in rows, windows in columns.\n",
    "            MADo: medium angular deviation, oblate matrix with observations in rows, windows in columns.\n",
    "    save: save the plot (bool, default: False)\n",
    "    **kwargs:\n",
    "        figsize: size of figure in inches (tuple, default: (5, 6))\n",
    "        NRM: plot NRM (bool, default: True)\n",
    "        Incl: plot Inclination (bool, default: True)\n",
    "        Decl: plot Declination (bool, default: True)\n",
    "        MADp: plot MADp (bool, default: True)\n",
    "        MADo: plot MADo (bool, default: True)\n",
    "        invertY: invert order of samples (bool, default: True)\n",
    "        ylabel: label for y-axis (str, default: \"\")\n",
    "\n",
    "Returns:\n",
    "    matplotlib figure instance."
   ]
  }
 ],
 "metadata": {
  "kernelspec": {
   "display_name": "Python 3",
   "language": "python",
   "name": "python3"
  },
  "language_info": {
   "codemirror_mode": {
    "name": "ipython",
    "version": 3
   },
   "file_extension": ".py",
   "mimetype": "text/x-python",
   "name": "python",
   "nbconvert_exporter": "python",
   "pygments_lexer": "ipython3",
   "version": "3.8.2"
  }
 },
 "nbformat": 4,
 "nbformat_minor": 4
}
